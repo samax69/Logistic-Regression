{
 "cells": [
  {
   "cell_type": "code",
   "execution_count": 5,
   "id": "513385d9-07c4-449a-b416-ca20546dc998",
   "metadata": {},
   "outputs": [],
   "source": [
    "import pandas as pd\n",
    "import numpy as np\n",
    "from sklearn.model_selection import train_test_split\n",
    "from sklearn.linear_model import LogisticRegression"
   ]
  },
  {
   "cell_type": "code",
   "execution_count": 6,
   "id": "42907875-6ba9-4602-981a-a70e1b078555",
   "metadata": {},
   "outputs": [],
   "source": [
    "from sklearn.datasets import load_iris"
   ]
  },
  {
   "cell_type": "code",
   "execution_count": 7,
   "id": "8fe8ffe7-bb48-4cb2-b64d-b64ee9278f90",
   "metadata": {},
   "outputs": [],
   "source": [
    "X, y = load_iris(return_X_y = True)"
   ]
  },
  {
   "cell_type": "code",
   "execution_count": 8,
   "id": "302515a4-2ff9-4d95-b54e-f9b5b9f9680b",
   "metadata": {},
   "outputs": [],
   "source": [
    "X_train, X_test, y_train, y_test = train_test_split(X, y, test_size = 0.2)"
   ]
  },
  {
   "cell_type": "code",
   "execution_count": 9,
   "id": "264521ee-22d6-4926-99cd-d86f42ff2479",
   "metadata": {},
   "outputs": [],
   "source": [
    "class LogisticR:\n",
    "    def __init__(self, lr):\n",
    "        self.lr = lr\n",
    "        self.weights_ = None\n",
    "        \n",
    "    def fit(self, X, y):\n",
    "        X = np.insert(X, 0, 1, axis = 1)\n",
    "        self.weights = np.ones(X.shape[1])\n",
    "        for i in range(100000):\n",
    "            y_hat = sigmoid(np.dot(X, self.weights))\n",
    "            self.weights = self.weights + self.lr*(np.dot(y-y_hat, X)) / X.shape[0]\n",
    "\n",
    "    # def predict(self, X):\n",
    "    #     X = np.insert(X, 0, 1, axis=1)  # Add bias term\n",
    "    #     probs = sigmoid(np.dot(X, self.weights))\n",
    "    #     return np.where(probs > 0.5, 1, 0)"
   ]
  },
  {
   "cell_type": "code",
   "execution_count": 10,
   "id": "9765b327-d813-4234-9652-dcf7e5a02a82",
   "metadata": {},
   "outputs": [],
   "source": [
    "def sigmoid(x):\n",
    "    return 1 / (1 + np.exp(-x))"
   ]
  },
  {
   "cell_type": "code",
   "execution_count": 11,
   "id": "f3656f1c-743f-42dc-82b8-d674b44e6b8b",
   "metadata": {},
   "outputs": [],
   "source": [
    "lr = LogisticR(lr = 0.1)"
   ]
  },
  {
   "cell_type": "code",
   "execution_count": 12,
   "id": "03454fc2-3516-4efe-9716-24348f23e277",
   "metadata": {},
   "outputs": [],
   "source": [
    "lr.fit(X_train, y_train)"
   ]
  },
  {
   "cell_type": "code",
   "execution_count": 16,
   "id": "7c9c0bd3-c471-4b76-9efb-1323a99d1a03",
   "metadata": {},
   "outputs": [
    {
     "data": {
      "text/plain": [
       "array([1, 1, 1, 1, 1, 1, 1, 1, 1, 1, 1, 1, 1, 1, 1, 1, 1, 1, 1, 1, 1, 1,\n",
       "       1, 1, 1, 1, 1, 1, 1, 1])"
      ]
     },
     "execution_count": 16,
     "metadata": {},
     "output_type": "execute_result"
    }
   ],
   "source": [
    "lr.predict(X_test)"
   ]
  },
  {
   "cell_type": "code",
   "execution_count": 17,
   "id": "57a4bf3b-4027-4025-b6f3-11411f8b5e41",
   "metadata": {},
   "outputs": [],
   "source": [
    "from sklearn.metrics import accuracy_score"
   ]
  },
  {
   "cell_type": "code",
   "execution_count": 18,
   "id": "9f15e124-3e1d-4c60-be83-4add5d018826",
   "metadata": {},
   "outputs": [
    {
     "data": {
      "text/plain": [
       "0.23333333333333334"
      ]
     },
     "execution_count": 18,
     "metadata": {},
     "output_type": "execute_result"
    }
   ],
   "source": [
    "accuracy_score(y_test, y_pred)"
   ]
  },
  {
   "cell_type": "code",
   "execution_count": 19,
   "id": "52c7906e-1c7a-4b54-b5f7-bacbe112ab52",
   "metadata": {},
   "outputs": [
    {
     "data": {
      "text/plain": [
       "array([  417.66666814,  7384.33334031,   109.33333792, 14434.33333545,\n",
       "        6184.33333367])"
      ]
     },
     "execution_count": 19,
     "metadata": {},
     "output_type": "execute_result"
    }
   ],
   "source": [
    "lr.weights"
   ]
  },
  {
   "cell_type": "code",
   "execution_count": 39,
   "id": "dcd4b87a-ea23-4163-97e1-df96cbe11fe6",
   "metadata": {},
   "outputs": [],
   "source": []
  },
  {
   "cell_type": "code",
   "execution_count": null,
   "id": "0aadb7e5-bdaa-4c4c-88c3-012c09b75aa9",
   "metadata": {},
   "outputs": [],
   "source": []
  }
 ],
 "metadata": {
  "kernelspec": {
   "display_name": "Python 3 (ipykernel)",
   "language": "python",
   "name": "python3"
  },
  "language_info": {
   "codemirror_mode": {
    "name": "ipython",
    "version": 3
   },
   "file_extension": ".py",
   "mimetype": "text/x-python",
   "name": "python",
   "nbconvert_exporter": "python",
   "pygments_lexer": "ipython3",
   "version": "3.12.4"
  }
 },
 "nbformat": 4,
 "nbformat_minor": 5
}
